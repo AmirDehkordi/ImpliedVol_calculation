{
 "cells": [
  {
   "cell_type": "code",
   "execution_count": 1,
   "id": "49ee7b9d",
   "metadata": {},
   "outputs": [
    {
     "name": "stdout",
     "output_type": "stream",
     "text": [
      "(3, 9, 7)\n"
     ]
    }
   ],
   "source": [
    "from sys import version_info\n",
    "print(version_info[:3])"
   ]
  },
  {
   "cell_type": "markdown",
   "id": "9736940e",
   "metadata": {},
   "source": [
    "## Import the Libraries"
   ]
  },
  {
   "cell_type": "code",
   "execution_count": 17,
   "id": "38cf9980",
   "metadata": {},
   "outputs": [],
   "source": [
    "import csv\n",
    "from math import *\n",
    "import matplotlib.pyplot as plt\n",
    "import numpy as np"
   ]
  },
  {
   "cell_type": "markdown",
   "id": "9f30fb46",
   "metadata": {},
   "source": [
    "## Calculate Price of a European Option\n",
    "This Python script is used for financial computation, specifically to calculate the price of European options, utilizing the Black-Scholes model. It involves two main functions, `normal_cdf` and `bs_eur`. \n",
    "\n",
    "The `normal_cdf` function estimates the cumulative density function (CDF) for a normal distribution with given mean, standard deviation, and up to a specified point. This function is essential as the Black-Scholes model assumes the returns of the underlying asset follow a log-normal distribution, and the CDF of the standard normal distribution is used in its formula.\n",
    "\n",
    "The `bs_eur` function is the primary function, and it uses the Black-Scholes formula to calculate the price of a European option. Inputs to the function include parameters like the current price of the underlying asset, the exercise price of the option, the risk-free interest rate, the time until option expiry, and the asset's volatility. Additionally, the type of the option ('call' or 'put') is provided to the function. Depending on the type of option, the function calculates and returns the price of the call or put option, respectively. It leverages the `normal_cdf` function in these calculations. This script can serve as a valuable tool for financial analysts, investment banks, and anyone interested in pricing European options."
   ]
  },
  {
   "cell_type": "code",
   "execution_count": null,
   "id": "419420dd",
   "metadata": {},
   "outputs": [],
   "source": [
    "# Define the cumulative density function of a normal distribution\n",
    "def normal_cdf(mu, sigma, x):\n",
    "    \"\"\"\n",
    "    Function to calculate the Cumulative Density Function for a Normal Distribution.\n",
    "\n",
    "    Parameters:\n",
    "    mu (float): The mean of the normal distribution.\n",
    "    sigma (float): The standard deviation of the normal distribution.\n",
    "    x (float): The point up to which the cumulative density is calculated.\n",
    "\n",
    "    Returns:\n",
    "    cdf (float): The cumulative density of the normal distribution up to point x.\n",
    "    \"\"\"\n",
    "    cdf = 1/2*(1+erf((x-mu) / (sigma*sqrt(2))))\n",
    "    return cdf\n",
    "\n",
    "# Function to calculate the price of a European option using the Black-Scholes formula\n",
    "def bs_eur(ex_price, int_rate, cur_price, time, vol, option, mu=0):\n",
    "    \"\"\"\n",
    "    Function to calculate the price of a European option using the Black-Scholes model.\n",
    "\n",
    "    Parameters:\n",
    "    ex_price (float): The exercise price of the option.\n",
    "    int_rate (float): The risk-free interest rate.\n",
    "    cur_price (float): The current price of the underlying asset.\n",
    "    time (float): The time to expiration of the option (in years).\n",
    "    vol (float): The volatility of the underlying asset.\n",
    "    option (str): The type of the option. It can be 'call' or 'put'.\n",
    "    mu (float, optional): The mean of the log-normal distribution for the underlying asset's returns. Defaults to 0.\n",
    "\n",
    "    Returns:\n",
    "    float: The price of the European option.\n",
    "    \"\"\"\n",
    "    # Calculate d1 and d2 parameters\n",
    "    d1 = (log(cur_price/ex_price) + (int_rate + (vol**2)/2) * time) / (vol * sqrt(time))\n",
    "    d2 = (log(cur_price/ex_price) + (int_rate - (vol**2)/2) * time) / (vol * sqrt(time))\n",
    "    \n",
    "    # Calculate the cumulative density function for d1 and d2\n",
    "    N_d1 = normal_cdf(0, 1, d1)\n",
    "    N_d2 = normal_cdf(0, 1, d2)\n",
    "    \n",
    "    # Calculate the price of the option based on its type\n",
    "    if option == 'call':\n",
    "        call_value = cur_price*N_d1 - ex_price*exp((-int_rate) * time) * N_d2\n",
    "        return call_value\n",
    "    elif option == 'put':\n",
    "        put_value = ex_price*exp((-int_rate) * time) * (1-N_d2) - cur_price*(1-N_d1)\n",
    "        return put_value\n"
   ]
  },
  {
   "cell_type": "markdown",
   "id": "58d7a29e",
   "metadata": {},
   "source": [
    "## Root Bisection\n",
    "This Python function, `root_bisection`, implements the Bisection method for finding a root of a continuous function within a given interval. It takes a function and an interval as inputs, then iteratively halves the interval based on the sign of the function's midpoint value. The process continues until an approximate root is found or if it becomes evident that no root exists within the provided interval."
   ]
  },
  {
   "cell_type": "code",
   "execution_count": null,
   "id": "9195372f",
   "metadata": {},
   "outputs": [],
   "source": [
    "def root_bisection(f, a, b):\n",
    "    \"\"\"\n",
    "    Function to find the root of a continuous function in a given interval [a, b] using the bisection method.\n",
    "\n",
    "    Parameters:\n",
    "    f (function): The function for which we are trying to approximate a solution f(x) = 0.\n",
    "    a (float): One end of the interval in which to search for a solution.\n",
    "    b (float): The other end of the interval in which to search for a solution.\n",
    "\n",
    "    Returns:\n",
    "    float or str: It returns the approximate solution within the given interval if it exists or returns an error message.\n",
    "    \"\"\"\n",
    "\n",
    "    # Check if 'a' or 'b' is an approximate root of 'f'\n",
    "    if abs(f(a)) <= 10**(-9):\n",
    "        return a\n",
    "    if abs(f(b)) <= 10**(-9):\n",
    "        return b\n",
    "    \n",
    "    # Check if f(a) and f(b) have opposite signs. If they don't, the function cannot find a root.\n",
    "    if f(a)*f(b) > 0:\n",
    "        return 'Approximate root cannot be found'\n",
    "    \n",
    "    # Define x_neg and x_pos based on the sign of f(a)\n",
    "    if f(a) < 0:\n",
    "        x_neg, x_pos = a,b\n",
    "    else:\n",
    "        x_neg, x_pos = b,a\n",
    "        \n",
    "    # Enter an infinite loop to iteratively refine the root estimate\n",
    "    while True:\n",
    "        # Calculate the midpoint between x_neg and x_pos\n",
    "        x_mid = (x_neg + x_pos)/2\n",
    "    \n",
    "        # If the function value at x_mid is close enough to zero, return x_mid as the root\n",
    "        if abs(f(x_mid)) <= 10**(-9):\n",
    "            return x_mid\n",
    "        # If the function value at x_mid is negative, update x_neg\n",
    "        elif f(x_mid) < 0:\n",
    "            x_neg = x_mid\n",
    "        # If the function value at x_mid is positive, update x_pos\n",
    "        elif f(x_mid) > 0:\n",
    "            x_pos = x_mid\n"
   ]
  },
  {
   "cell_type": "markdown",
   "id": "3ff4705f",
   "metadata": {},
   "source": [
    "## Implied Volatility Estimation\n",
    "This Python function, `bs_eur_estimate_iv`, estimates the implied volatility of a European option given its observed market value and other parameters. This function uses the Black-Scholes model for pricing the option, and the bisection method to solve for the implied volatility that equates the Black-Scholes calculated option price with the observed market price. The function takes in several parameters including the exercise price, risk-free interest rate, current price of the underlying asset, time to expiration, observed option value, and option type (call or put). It also allows for setting lower and upper bounds for the search of the implied volatility. The implied volatility is a crucial measure in financial markets, providing insights into the market's expectation of the asset's future volatility."
   ]
  },
  {
   "cell_type": "code",
   "execution_count": 30,
   "id": "e0e90d51",
   "metadata": {},
   "outputs": [],
   "source": [
    "def bs_eur_estimate_iv(ex_price, int_rate, cur_price, time, option_val, option_type, *, lower_vol=0.0001,\n",
    "                       upper_vol=100):\n",
    "    \"\"\"\n",
    "    Function to estimate the implied volatility for a European option using the Black-Scholes model.\n",
    "\n",
    "    Parameters:\n",
    "    ex_price (float): The exercise price of the option.\n",
    "    int_rate (float): The risk-free interest rate.\n",
    "    cur_price (float): The current price of the underlying asset.\n",
    "    time (float): The time to expiration of the option (in years).\n",
    "    option_val (float): The observed market value of the option.\n",
    "    option_type (str): The type of the option. It can be 'call' or 'put'.\n",
    "    lower_vol (float, optional): The lower bound for the search for implied volatility. Defaults to 0.0001.\n",
    "    upper_vol (float, optional): The upper bound for the search for implied volatility. Defaults to 100.\n",
    "\n",
    "    Returns:\n",
    "    float: The estimated implied volatility of the option.\n",
    "    \"\"\"\n",
    "\n",
    "    # Use the bisection root-finding method to find the implied volatility that makes the Black-Scholes\n",
    "    # calculated value equal to the observed option value.\n",
    "    return root_bisection(lambda vol: bs_eur(ex_price, int_rate, cur_price, time, vol, option_type) -\n",
    "                          option_val, lower_vol, upper_vol)\n"
   ]
  },
  {
   "cell_type": "markdown",
   "id": "b66eebf2",
   "metadata": {},
   "source": [
    "## Implied Volatility Output\n",
    "This Python script, `apply_iv`, computes the implied volatility of an option and creates a volatility smile plot, given input data in CSV format. It requires data for the exercise price and option value in the input CSV, along with parameters like the current price of the underlying asset, risk-free interest rate, time until the option expires, and the option type. The script first verifies that the exercise price and option value fields exist in the input file and that the implied volatility field doesn't already exist. Then, it computes the implied volatility for each exercise price and option value pair using an auxiliary function `bs_eur_estimate_iv` (not included in the provided code), appends these values to the input data, and writes the enhanced data to an output CSV file. If a filename for a plot is provided, the script also generates a volatility smile plot showing implied volatility as a function of the exercise price and saves it as an image file. The `apply_iv` function is a useful tool for financial analysts, traders, or researchers interested in options pricing and volatility analysis."
   ]
  },
  {
   "cell_type": "code",
   "execution_count": 31,
   "id": "efe3695f",
   "metadata": {},
   "outputs": [],
   "source": [
    "def apply_iv(in_filename, out_filename, plot_filename=None,*, ex_price_field, \n",
    "             option_val_field, iv_field, cur_price, int_rate, maturity_time, option_type):\n",
    "    \"\"\"\n",
    "    Function to compute implied volatility of an option and create a volatility smile plot.\n",
    "\n",
    "    Parameters:\n",
    "    in_filename (str): File name of the input CSV containing exercise prices and option values.\n",
    "    out_filename (str): File name of the output CSV, which will include computed implied volatilities.\n",
    "    plot_filename (str, optional): File name of the output plot of the volatility smile. Default is None.\n",
    "    ex_price_field (str): Field name of the exercise price in the input CSV.\n",
    "    option_val_field (str): Field name of the option value in the input CSV.\n",
    "    iv_field (str): Field name for the implied volatility to be added in the output CSV.\n",
    "    cur_price (float): Current price of the underlying asset.\n",
    "    int_rate (float): Risk-free interest rate.\n",
    "    maturity_time (float): Time until the option expires.\n",
    "    option_type (str): Type of the option ('call' or 'put').\n",
    "\n",
    "    Returns:\n",
    "    None: The function writes an output CSV file with added implied volatility field and optionally a volatility smile plot.\n",
    "    \"\"\"\n",
    "    with open(in_filename, 'r') as in_file:\n",
    "        # Openning and reading the CSV file\n",
    "        reader_csv = csv.reader(in_file)\n",
    "        data = [row for row in reader_csv]\n",
    "\n",
    "        \n",
    "    header = data[0] # Store the header of the file\n",
    "    \n",
    "    \n",
    "    if not((ex_price_field in header) and (option_val_field in header)):\n",
    "        # If ex_price_field and option_val_field are not headers of the input file.\n",
    "        raise ValueError(f\"Given {ex_price_field} or {option_val_field} are not the headers of the input file!\")\n",
    "        \n",
    "        \n",
    "    if iv_field in header:\n",
    "        # If iv_field is a header of the input file\n",
    "        raise ValueError(f\"Given {iv_field} should not be a header of the input file!\")\n",
    "    \n",
    "\n",
    "    ex_price, option_value = [], [] # Create an empty list to store the values of Exercise price and Option value\n",
    "    for row in data[1:]:\n",
    "        # Storing Exercise and Option prices\n",
    "        ex_price.append(float(row[int(header.index(ex_price_field))])),\n",
    "        option_value.append(float(row[int(header.index(option_val_field))]))\n",
    "\n",
    "        \n",
    "    ex_val = zip(ex_price, option_value) # Create pairwise values\n",
    "\n",
    "    \n",
    "    imp_vol = [] # Create an empty list to store the values of Implied Volatility\n",
    "    for ex, val in ex_val:\n",
    "        # Calculating values of Implied Volatility\n",
    "        a = round(bs_eur_estimate_iv(ex_price=ex, int_rate=int_rate, cur_price=cur_price, time=maturity_time,\n",
    "               option_val=val, option_type='call', lower_vol=0.0001, upper_vol=100), 3)\n",
    "        imp_vol.append(a)\n",
    "\n",
    "\n",
    "    header.append(iv_field) # Add the CSV field of the Implied Volatility\n",
    "\n",
    "    \n",
    "    for i, row in enumerate(data[1:]):\n",
    "        # Add the Implied Volatility values to the CSV file\n",
    "        row.append(imp_vol[i])\n",
    "\n",
    "        \n",
    "    with open(out_filename, 'w', newline='') as out_file:\n",
    "        # Write a new file\n",
    "        writer = csv.writer(out_file)\n",
    "        writer.writerow(header)\n",
    "        writer.writerows(data[1:])\n",
    "    \n",
    "    \n",
    "    if plot_filename is not None:\n",
    "        # Creating the plot\n",
    "        fig, ax = plt.subplots()\n",
    "        fig.set_size_inches(8, 6)\n",
    "        plt.style.use('classic')\n",
    "        ax.plot(ex_price, imp_vol, color='lime', linewidth=2.25)\n",
    "        title_font = {'fontsize': 20, 'fontweight': 'bold'}\n",
    "        ax.set_title('Volatility Smile', fontdict=title_font)\n",
    "        ax.set_ylabel('Implied Volatility (%)', fontsize=14)\n",
    "        ax.set_xlabel('Exercise Price', fontsize=14)\n",
    "        plt.grid(color='red', linestyle=':', linewidth=1)\n",
    "        fig.savefig(plot_filename, dpi=600)\n",
    "        "
   ]
  },
  {
   "cell_type": "code",
   "execution_count": 32,
   "id": "55e83cd3",
   "metadata": {},
   "outputs": [
    {
     "data": {
      "image/png": "[encoded data removed]",
      "text/plain": [
       "<Figure size 640x480 with 1 Axes>"
      ]
     },
     "metadata": {},
     "output_type": "display_data"
    }
   ],
   "source": [
    "apply_iv(in_filename='AMF2_option_sample.csv', out_filename='ImpVol.csv', plot_filename='ImpSmile.png',\n",
    "         ex_price_field='Strike', option_val_field='Price', iv_field='Implied Volatility', cur_price=3970.04,\n",
    "                     int_rate=0.0438, maturity_time=35/252, option_type='call')"
   ]
  },
  {
   "cell_type": "code",
   "execution_count": null,
   "id": "d387befd",
   "metadata": {},
   "outputs": [],
   "source": []
  },
  {
   "cell_type": "code",
   "execution_count": null,
   "id": "b05be034",
   "metadata": {},
   "outputs": [],
   "source": []
  }
 ],
 "metadata": {
  "kernelspec": {
   "display_name": "Python 3 (ipykernel)",
   "language": "python",
   "name": "python3"
  },
  "language_info": {
   "codemirror_mode": {
    "name": "ipython",
    "version": 3
   },
   "file_extension": ".py",
   "mimetype": "text/x-python",
   "name": "python",
   "nbconvert_exporter": "python",
   "pygments_lexer": "ipython3",
   "version": "3.9.7"
  }
 },
 "nbformat": 4,
 "nbformat_minor": 5
}
